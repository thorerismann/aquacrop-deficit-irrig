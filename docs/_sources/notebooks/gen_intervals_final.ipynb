{
 "cells": [
  {
   "cell_type": "markdown",
   "id": "2b92bc72-3031-4c40-a656-fa0356fb6d22",
   "metadata": {},
   "source": [
    "# Notebook to generate the results for the intervals seciton of the report."
   ]
  },
  {
   "cell_type": "code",
   "execution_count": 1,
   "id": "7f096991-8489-4095-abc1-2422d51a5008",
   "metadata": {},
   "outputs": [],
   "source": [
    "# import packages\n",
    "from aquacrop import AquaCropModel, Soil, Crop, InitialWaterContent, IrrigationManagement\n",
    "from aquacrop.utils import prepare_weather, get_filepath\n",
    "import numpy as np\n",
    "import matplotlib as mplt\n",
    "import matplotlib.pyplot as plt\n",
    "import datetime as dt\n",
    "import random as random\n",
    "import pandas as pd\n",
    "import seaborn as sns\n",
    "import os\n",
    "\n",
    "# get current working directory to load and save files\n",
    "thedir = os.getcwd()\n",
    "\n",
    "# use cwd to to get folders containing figures and data\n",
    "datadir = os.path.abspath(os.path.join(os.path.dirname(thedir), '..', 'acrop/model_results'))"
   ]
  },
  {
   "cell_type": "code",
   "execution_count": 2,
   "id": "f8c6c6a1-b536-4c56-84e7-cba5ff4f0acb",
   "metadata": {},
   "outputs": [],
   "source": [
    "def get_date(first,last,year):\n",
    "    \"\"\"\n",
    "    function generates a random date in the interval [first, last]\n",
    "    \n",
    "    Parameters:\n",
    "    first1 (str): start of interval of possible watering dates\n",
    "    last1 (str): end of interval of possible watering dates\n",
    "    year (int): the year to use\n",
    "    Returns:\n",
    "    str: a YYYY-MM-DD str of a date between the provided intervals\n",
    "    \"\"\"\n",
    "    start = dt.date(year, int(first[0:2]), int(first[3:]))\n",
    "    end = dt.date(year, int(last[0:2]), int(last[3:]))\n",
    "    interval_time = end - start\n",
    "    interval_days = interval_time.days\n",
    "    random_days = random.randrange(interval_days)\n",
    "    irrig = str(start + dt.timedelta(days = random_days))\n",
    "    if irrig[5:]==\"02-29\":\n",
    "        irrig = get_date(first,last,year)\n",
    "    return irrig\n",
    "\n",
    "def genStableCalendar(first1,last1,first2,last2,year,depth):\n",
    "    \"\"\"\n",
    "    function to generate random days for each run of the model but remains constant across growing seasons\n",
    "    \n",
    "    Parameters:\n",
    "    first1 (str): start of first interval of possible watering dates\n",
    "    last1 (str): end of first interval of possible watering dates\n",
    "    first2 (str): start of second interval of possible watering dates\n",
    "    last2 (str): end of second interval of possible watering dates\n",
    "    year (int): the year to begin\n",
    "    \n",
    "    Returns:\n",
    "    list: returns a list of two elements [OSPY calendar item,list of dates]\n",
    "    \"\"\"\n",
    "    cal = []\n",
    "    md = []\n",
    "    cal.append(F'{year}-12-15')\n",
    "    first = get_date(first1,last1,year+1)\n",
    "    second = get_date(first2,last2,year+1)\n",
    "    day_month = first[5:]\n",
    "    day_month_ = second[5:]\n",
    "    cal.append(first)\n",
    "    cal.append(second)\n",
    "    md.append([day_month,day_month_])\n",
    "    for i in range(year+1,2003):\n",
    "        cal.append(F'{i}-12-15')\n",
    "        cal.append(F'{i+1}-{day_month}')\n",
    "        cal.append(F'{i+1}-{day_month_}')\n",
    "    calendar_pd = pd.DataFrame(cal)\n",
    "    cal_pd = calendar_pd.set_axis(['Date'], axis=1, inplace=False)\n",
    "    cal_pd['Depth'] = depth\n",
    "    # irrigation\n",
    "    # note that clean water is not specified as it is the default value for irrigation.\n",
    "    # note that the default irrigitation method is used to achieve the 30 cm)\n",
    "    im = IrrigationManagement(irrigation_method=3,Schedule = cal_pd,AppEff = 100,WetSurf=100)\n",
    "    return [im,md]\n",
    "\n",
    "def genExactCal(first,second,year,depth):\n",
    "    cal = []\n",
    "    md = []\n",
    "    cal.append(F'{year}-12-15')\n",
    "    cal.append(F'{year+1}-{first}')\n",
    "    cal.append(F'{year+1}-{second}')\n",
    "    for i in range(year+1,2003):\n",
    "        cal.append(F'{i}-12-15')\n",
    "        cal.append(F'{i+1}-{first}')\n",
    "        cal.append(F'{i+1}-{second}')\n",
    "    calendar_pd = pd.DataFrame(cal)\n",
    "    cal_pd = calendar_pd.set_axis(['Date'], axis=1, inplace=False)\n",
    "    cal_pd['Depth'] = depth\n",
    "    # irrigation\n",
    "    # note that clean water is not specified as it is the default value for irrigation.\n",
    "    # note that the default irrigitation method is used to achieve the 30 cm)\n",
    "    im = IrrigationManagement(irrigation_method=3,Schedule = cal_pd)\n",
    "    return im"
   ]
  },
  {
   "cell_type": "code",
   "execution_count": 3,
   "id": "b729ad3b-1a00-489f-a75b-bdd69d447a63",
   "metadata": {},
   "outputs": [],
   "source": [
    "def runStable(runs,first1,last1,first2,last2,year,depth):\n",
    "    \"\"\"\n",
    "    function runs the stable calendar\n",
    "    \n",
    "    Parameters:\n",
    "    runs (int): the number of runs\n",
    "    first1 (str): start of first interval of possible watering dates\n",
    "    last1 (str): end of first interval of possible watering dates\n",
    "    first2 (str): start of second interval of possible watering dates\n",
    "    last2 (str): end of second interval of possible watering dates\n",
    "    year (int): the year to begin\n",
    "    Returns:\n",
    "    list: returns a list of two elements [outputs dataframe,list of dates]\n",
    "    \"\"\" \n",
    "    i = 1\n",
    "    mylist = []\n",
    "    dates= []\n",
    "    while i <= runs:\n",
    "        newcal = genStableCalendar(first1,last1,first2,last2,year,depth)\n",
    "        cal = newcal[0]\n",
    "        dates.append([newcal[1],i])\n",
    "        mylist.append(run_model(cal,i))\n",
    "        if i%10==0:\n",
    "            print(f'run # {i}')\n",
    "        i+=1\n",
    "    new_stable = pd.concat(mylist)\n",
    "    return [new_stable,dates]\n",
    "\n",
    "def runExact(first,second,year,depth):\n",
    "    newcal = genExactCal(first,second,year,depth)\n",
    "    a = run_model_(newcal)\n",
    "    a['first'] = dt.date(year, int(first[:2]), int(first[3:]))\n",
    "    a['second'] = dt.date(year, int(second[:2]), int(second[3:]))\n",
    "    return a"
   ]
  },
  {
   "cell_type": "code",
   "execution_count": 4,
   "id": "4889e086-8752-4f3c-bd0c-39fdd365b1ba",
   "metadata": {},
   "outputs": [],
   "source": [
    "def run_model(cal,i):\n",
    "    model = AquaCropModel(sim_start_time=simStart,\n",
    "                      sim_end_time=simEnd,\n",
    "                      weather_df=weather_data,\n",
    "                      soil=my_soil,\n",
    "                      crop=my_crop,\n",
    "                      initial_water_content=my_iwc,\n",
    "                      irrigation_management=cal)\n",
    "    model.run_model(till_termination=True)\n",
    "    \n",
    "    final_stats = model._outputs.final_stats\n",
    "    \n",
    "    # assemble water variables\n",
    "    water_flux = model._outputs.water_flux\n",
    "    wf = water_flux.groupby([\"season_counter\"]).sum()\n",
    "    wf = wf[[\"Es\",\"Tr\",\"DeepPerc\",\"CR\"]]\n",
    "    wf[\"Season\"] = wf.index\n",
    "    wf.reset_index(inplace = True,drop = True)\n",
    "\n",
    "    # assemble crop growth variables\n",
    "    crop_growth = model._outputs.crop_growth\n",
    "    crop_growth[\"Season\"] = crop_growth[\"season_counter\"]\n",
    "    crops_max = crop_growth.groupby([\"season_counter\"]).max()[[\"biomass\",\"harvest_index\",\"biomass_ns\",\"canopy_cover\",\"Season\"]]\n",
    "\n",
    "    merged = final_stats.merge(wf,how=\"inner\",on=[\"Season\"])\n",
    "    outputs = merged.merge(crops_max,how =\"inner\", on =[\"Season\"])\n",
    "    outputs['run']=i\n",
    "\n",
    "    return outputs\n",
    "\n",
    "def run_model_(cal):\n",
    "    model = AquaCropModel(sim_start_time=simStart,\n",
    "                      sim_end_time=simEnd,\n",
    "                      weather_df=weather_data,\n",
    "                      soil=my_soil,\n",
    "                      crop=my_crop,\n",
    "                      initial_water_content=my_iwc,\n",
    "                      irrigation_management=cal)\n",
    "    model.run_model(till_termination=True)\n",
    "    \n",
    "    final_stats = model._outputs.final_stats\n",
    "    \n",
    "    # assemble water variables\n",
    "    water_flux = model._outputs.water_flux\n",
    "    wf = water_flux.groupby([\"season_counter\"]).sum()\n",
    "    wf = wf[[\"Es\",\"Tr\",\"DeepPerc\",\"CR\"]]\n",
    "    wf[\"Season\"] = wf.index\n",
    "    wf.reset_index(inplace = True,drop = True)\n",
    "\n",
    "    # assemble crop growth variables\n",
    "    crop_growth = model._outputs.crop_growth\n",
    "    crop_growth[\"Season\"] = crop_growth[\"season_counter\"]\n",
    "    crops_max = crop_growth.groupby([\"season_counter\"]).max()[[\"biomass\",\"harvest_index\",\"biomass_ns\",\"canopy_cover\",\"Season\"]]\n",
    "\n",
    "    merged = final_stats.merge(wf,how=\"inner\",on=[\"Season\"])\n",
    "    outputs = merged.merge(crops_max,how =\"inner\", on =[\"Season\"])\n",
    "\n",
    "    return outputs"
   ]
  },
  {
   "cell_type": "code",
   "execution_count": 5,
   "id": "70a74e37-0c86-4606-9b3d-b29956f3e981",
   "metadata": {},
   "outputs": [],
   "source": [
    "# assign outputs from stable\n",
    "def getOutputsPD():\n",
    "    \"\"\"\n",
    "    function to get results pd from results list\n",
    "    \"\"\"\n",
    "    ns_pd = new_stable[0]\n",
    "    return ns_pd\n",
    "\n",
    "def getOutputsDate():\n",
    "    \"\"\"\n",
    "    function to get dates pd from results list\n",
    "    \"\"\"\n",
    "    ns_dt = pd.DataFrame(new_stable[1])\n",
    "    return ns_dt\n",
    "\n",
    "def getDates(df1,df2):\n",
    "    \"\"\"\n",
    "    function to get dates pd into usefel format\n",
    "    Parameters:\n",
    "    runs (int): the number of runs\n",
    "    first1 (str): start of first interval of possible watering dates\n",
    "    last1 (str): end of first interval of possible watering dates\n",
    "    first2 (str): start of second interval of possible watering dates\n",
    "    last2 (str): end of second interval of possible watering dates\n",
    "    year (int): the year to begin\n",
    "    Returns:\n",
    "    \"\"\"\n",
    "    # assign outputs from random\n",
    "    #nr_pd = new_random[0]\n",
    "\n",
    "    # turn randomized dates into panda dataframes for inclusion in analysis\n",
    "\n",
    "    # clean-up nested list of lists of lists into useful panda dataframe object\n",
    "    col_1 = df1.iloc[:,0]\n",
    "    col_2 = df1.iloc[:,1]\n",
    "    first = []\n",
    "    second = []\n",
    "    run = []\n",
    "    k = 1\n",
    "    for i in col_1:\n",
    "        for j in i:\n",
    "            first.append(j[0])\n",
    "            second.append(j[1])\n",
    "            run.append(k)\n",
    "            k = k+1\n",
    "    stable_dates = pd.DataFrame({\"run\":run,\"date_1\":first,\"date_2\":second})\n",
    "\n",
    "    # create new dataframe of the same length as outputs object for later merging\n",
    "\n",
    "    first = []\n",
    "    last = []\n",
    "    run = []\n",
    "    for i in df2.run:\n",
    "        for j in range(len(stable_dates.run)):\n",
    "            if stable_dates.at[j,\"run\"] == i:\n",
    "                first.append(stable_dates.at[j,\"date_1\"])\n",
    "                last.append(stable_dates.at[j,\"date_2\"])\n",
    "                run.append(i)\n",
    "    stable_dates_ = pd.DataFrame({\"date_1\":first,\"date_2\":last,\"run\":run})\n",
    "    return stable_dates\n",
    "\n",
    "def getStatsRuns(df1,df2):\n",
    "    \"\"\"\n",
    "    function runs the stable calendar\n",
    "    \n",
    "    Parameters:\n",
    "    ns_pd (df): dataframe of outputs from runs\n",
    "    Returns:\n",
    "    list: returns a dataframe of statistics aggregated across runs.\n",
    "    \"\"\"\n",
    "    stats = df1.groupby(\"run\").agg({'Yield (tonne/ha)' : ['mean', 'min','max','median','var'], \n",
    "                            'biomass' : ['mean', 'min','max','median','var'],\n",
    "                            'harvest_index' : ['mean', 'min','max','median','var'],\n",
    "                            'canopy_cover': ['mean', 'min','max','median','var'],\n",
    "                            'Es' : ['mean', 'min','max','median','var'],\n",
    "                            'Tr': ['mean', 'min','max','median','var'],\n",
    "                            'DeepPerc': ['mean', 'min','max','median','var'],\n",
    "                            'CR': ['mean', 'min','max','median','var']})\n",
    "    # flatten multilevel column index using \"-\" to join levels.\n",
    "    stats.columns = [\"_\".join(pair) for pair in stats.columns]\n",
    "    # merge dates into stats dataframe. Merge on \"run\" column.\n",
    "    stats.reset_index(drop = False,inplace = True)\n",
    "    stats = stats.merge(df2)\n",
    "    return stats\n",
    "\n",
    "def getStatsSeasons(df1):\n",
    "    stats_2 = df1.groupby(\"Season\").agg({'Yield (tonne/ha)' : ['mean', 'min','max','median','var'], \n",
    "                            'biomass' : ['mean', 'min','max','median','var'],\n",
    "                            'harvest_index' : ['mean', 'min','max','median','var'],\n",
    "                            'canopy_cover': ['mean', 'min','max','median','var'],\n",
    "                            'Es' : ['mean', 'min','max','median','var'],\n",
    "                            'Tr': ['mean', 'min','max','median','var'],\n",
    "                            'DeepPerc': ['mean', 'min','max','median','var'],\n",
    "                            'CR': ['mean', 'min','max','median','var']})\n",
    "    stats_2.columns = [\"_\".join(pair) for pair in stats_2.columns]\n",
    "    stats_2.to_csv(F\"{datadir}/{date_pair}_{depth}s.csv\")\n",
    "\n",
    "def getDays(df):\n",
    "    \"\"\"\n",
    "    function that appeds the number of days since planting for the first and second watering dates to the result of get_Stats()\n",
    "    \n",
    "    Parameters:\n",
    "    df1 (df): dataframe of outputs from get_Stats\n",
    "    df2 (df): dataframe of dates from getDates\n",
    "    \"\"\"\n",
    "    first = []\n",
    "    start = dt.date(1979,12,15)    \n",
    "    for i in df.date_1:\n",
    "        diff = dt.date(1980,int(i[:2]),int(i[3:])) - start\n",
    "        first.append(diff)\n",
    "    second = []\n",
    "    for i in df.date_2:\n",
    "        diff = dt.date(1980,int(i[:2]),int(i[3:])) - start\n",
    "        second.append(diff)\n",
    "    stats[\"irrig_1\"] = first\n",
    "    stats[\"irrig_2\"] = second\n",
    "    stats[\"irrigation_1\"] = df.irrig_1.dt.days\n",
    "    stats[\"irrigation_2\"] = df.irrig_2.dt.days\n",
    "    stats.to_csv(F\"{datadir}/{date_pair}_{depth}.csv\")\n",
    "\n",
    "def getExact(date1,date2,depth):\n",
    "    interval = runExact(date1,date2,1979,depth)\n",
    "    summary = interval.agg({'Yield (tonne/ha)' : ['mean', 'min','max','median','var'], \n",
    "                            'biomass' : ['mean', 'min','max','median','var'],\n",
    "                            'harvest_index' : ['mean', 'min','max','median','var'],\n",
    "                            'canopy_cover': ['mean', 'min','max','median','var'],\n",
    "                            'Es' : ['mean', 'min','max','median','var'],\n",
    "                            'Tr': ['mean', 'min','max','median','var'],\n",
    "                            'DeepPerc': ['mean', 'min','max','median','var'],\n",
    "                            'CR': ['mean', 'min','max','median','var']})\n",
    "    summary[\"date1\"] = date1\n",
    "    summary[\"date2\"] = date2\n",
    "    return summary"
   ]
  },
  {
   "cell_type": "code",
   "execution_count": 6,
   "id": "3a2a12af-e668-4af6-8fbb-715271bf9fb6",
   "metadata": {},
   "outputs": [],
   "source": [
    "# note that clean water is not specified as it is the default value for irrigation.\n",
    "# note that the default irrigitation method is used to achieve the 30 cm - unclear how to change to \"sprinkler\" irrigation.\n",
    "# declare basic parameters from instructions on exercise 7.7\n",
    "\n",
    "filepath=get_filepath('tunis_climate.txt')\n",
    "weather_data = prepare_weather(filepath)\n",
    "my_soil = Soil(soil_type='SandyLoam')\n",
    "my_crop = Crop('WheatGDD', planting_date='12/01')\n",
    "my_iwc = InitialWaterContent(value = [\"WP\"])\n",
    "simStart = \"1979/08/15\"\n",
    "simEnd = \"2002/05/31\""
   ]
  },
  {
   "cell_type": "markdown",
   "id": "a4f6ea06-950a-4513-bd2a-323111de9f89",
   "metadata": {},
   "source": [
    "### Interval 1 (30,60)\n",
    "\n",
    "This is the first set of runs using a fixed date and an interval around it. A dataframe of results of all the exact dates is created and saved, as well as a dataframe representing the resuls of a fixed number of random runs in the interval around the selected date."
   ]
  },
  {
   "cell_type": "code",
   "execution_count": 7,
   "id": "17b80f59-f93c-4df6-a296-baabe956d407",
   "metadata": {},
   "outputs": [],
   "source": [
    "# declare intervals and exact dates to test\n",
    "\n",
    "i30 = [\"01-06\",\"01-24\"]\n",
    "i60 = [\"02-05\",\"02-21\"]\n",
    "i80 = [\"02-26\",\"03-13\"]\n",
    "i110 = [\"03-27\",\"04-12\"]\n",
    "i130 = [\"04-16\",\"05-02\"]\n",
    "i140 = [\"04-26\",\"05-15\"]\n",
    "e30 = \"01-14\"\n",
    "e60 = \"02-13\"\n",
    "e80 = \"03-05\"\n",
    "e110 = \"04-04\"\n",
    "e130 = \"04-24\"\n",
    "e140 = \"05-04\""
   ]
  },
  {
   "cell_type": "code",
   "execution_count": 8,
   "id": "506f28d5-7323-4891-b780-a02fe93fa576",
   "metadata": {},
   "outputs": [
    {
     "name": "stdout",
     "output_type": "stream",
     "text": [
      "run # 10\n",
      "run # 20\n"
     ]
    }
   ],
   "source": [
    "depth = 25\n",
    "runs_s = 25\n",
    "summary_1 = getExact(e30,e60,depth)\n",
    "\n",
    "date_pair = \"30_60\"\n",
    "interval1 = i30\n",
    "interval2 = i60\n",
    "year = 1979\n",
    "new_stable = runStable(runs_s,interval1[0],interval1[1],interval2[0],interval2[1],year,depth)\n",
    "\n",
    "df1 = getOutputsPD()\n",
    "dates = getOutputsDate()\n",
    "dates = getDates(dates,df1)\n",
    "stats = getStatsRuns(df1,dates)\n",
    "getDays(stats)\n",
    "getStatsSeasons(df1)"
   ]
  },
  {
   "cell_type": "markdown",
   "id": "1455d44f-31db-4954-a5a5-da5bbebbc3c2",
   "metadata": {},
   "source": [
    "### Interval 2 (30,80)"
   ]
  },
  {
   "cell_type": "code",
   "execution_count": 9,
   "id": "ef0cb4b4-6b30-4f22-b45d-5c53efa5f46a",
   "metadata": {},
   "outputs": [
    {
     "name": "stdout",
     "output_type": "stream",
     "text": [
      "run # 10\n",
      "run # 20\n"
     ]
    }
   ],
   "source": [
    "summary_2 = getExact(e30,e80,depth)\n",
    "\n",
    "date_pair = \"30_80\"\n",
    "interval1 = i30\n",
    "interval2 = i80\n",
    "year = 1979\n",
    "new_stable = runStable(runs_s,interval1[0],interval1[1],interval2[0],interval2[1],year,depth)\n",
    "\n",
    "df1 = getOutputsPD()\n",
    "dates = getOutputsDate()\n",
    "dates = getDates(dates,df1)\n",
    "stats = getStatsRuns(df1,dates)\n",
    "getDays(stats)\n",
    "getStatsSeasons(df1)"
   ]
  },
  {
   "cell_type": "markdown",
   "id": "3147733b-e732-45c2-b4b7-30627ec8595d",
   "metadata": {},
   "source": [
    "### Interval 3 (30,110)"
   ]
  },
  {
   "cell_type": "code",
   "execution_count": 10,
   "id": "5055b4eb-9d98-432a-bd13-73d26df9eb35",
   "metadata": {},
   "outputs": [
    {
     "name": "stdout",
     "output_type": "stream",
     "text": [
      "run # 10\n",
      "run # 20\n"
     ]
    }
   ],
   "source": [
    "summary_3 = getExact(e30,e110,depth)\n",
    "\n",
    "date_pair = \"30_110\"\n",
    "interval1 = i30\n",
    "interval2 = i110\n",
    "year = 1979\n",
    "new_stable = runStable(runs_s,interval1[0],interval1[1],interval2[0],interval2[1],year,depth)\n",
    "\n",
    "df1 = getOutputsPD()\n",
    "dates = getOutputsDate()\n",
    "dates = getDates(dates,df1)\n",
    "stats = getStatsRuns(df1,dates)\n",
    "getDays(stats)\n",
    "getStatsSeasons(df1)"
   ]
  },
  {
   "cell_type": "markdown",
   "id": "2e5f138e-d8ec-43de-8a8d-dd393b1467b1",
   "metadata": {},
   "source": [
    "### Interval 4 (60,110)"
   ]
  },
  {
   "cell_type": "code",
   "execution_count": 11,
   "id": "cfbbdafb-e4cb-4869-b37f-818641068ae6",
   "metadata": {},
   "outputs": [
    {
     "name": "stdout",
     "output_type": "stream",
     "text": [
      "run # 10\n",
      "run # 20\n"
     ]
    }
   ],
   "source": [
    "summary_4 = getExact(e60,e110,depth)\n",
    "\n",
    "date_pair = \"60_110\"\n",
    "interval1 = i60\n",
    "interval2 = i110\n",
    "year = 1979\n",
    "new_stable = runStable(runs_s,interval1[0],interval1[1],interval2[0],interval2[1],year,depth)\n",
    "\n",
    "df1 = getOutputsPD()\n",
    "dates = getOutputsDate()\n",
    "dates = getDates(dates,df1)\n",
    "stats = getStatsRuns(df1,dates)\n",
    "getDays(stats)\n",
    "getStatsSeasons(df1)"
   ]
  },
  {
   "cell_type": "markdown",
   "id": "d91f0761-ee04-422e-955a-6261076edb4d",
   "metadata": {},
   "source": [
    "### Interval 5 (60,130)"
   ]
  },
  {
   "cell_type": "code",
   "execution_count": 12,
   "id": "fd60438f-5c87-4154-92d9-a1ce34e02d4f",
   "metadata": {},
   "outputs": [
    {
     "name": "stdout",
     "output_type": "stream",
     "text": [
      "run # 10\n",
      "run # 20\n"
     ]
    }
   ],
   "source": [
    "summary_5 = getExact(e60,e130,depth)\n",
    "date_pair = \"60_130\"\n",
    "interval1 = i60\n",
    "interval2 = i130\n",
    "year = 1979\n",
    "new_stable = runStable(runs_s,interval1[0],interval1[1],interval2[0],interval2[1],year,depth)\n",
    "df1 = getOutputsPD()\n",
    "dates = getOutputsDate()\n",
    "dates = getDates(dates,df1)\n",
    "stats = getStatsRuns(df1,dates)\n",
    "getDays(stats)\n",
    "getStatsSeasons(df1)"
   ]
  },
  {
   "cell_type": "markdown",
   "id": "73979294-2802-4a4b-801c-f42f2fa61426",
   "metadata": {},
   "source": [
    "### Interval 6 (80,110)"
   ]
  },
  {
   "cell_type": "code",
   "execution_count": 13,
   "id": "9731747c-d234-4e82-8cbd-97795752c8c8",
   "metadata": {},
   "outputs": [
    {
     "name": "stdout",
     "output_type": "stream",
     "text": [
      "run # 10\n",
      "run # 20\n"
     ]
    }
   ],
   "source": [
    "summary_6 = getExact(e80,e110,depth)\n",
    "date_pair = \"80_110\"\n",
    "interval1 = i80\n",
    "interval2 = i110\n",
    "year = 1979\n",
    "new_stable = runStable(runs_s,interval1[0],interval1[1],interval2[0],interval2[1],year,depth)\n",
    "df1 = getOutputsPD()\n",
    "dates = getOutputsDate()\n",
    "dates = getDates(dates,df1)\n",
    "stats = getStatsRuns(df1,dates)\n",
    "getDays(stats)\n",
    "getStatsSeasons(df1)"
   ]
  },
  {
   "cell_type": "markdown",
   "id": "f927ba75-c3a6-4e8c-a837-b629ed4dc95d",
   "metadata": {},
   "source": [
    "### Interval 7 (80,140)"
   ]
  },
  {
   "cell_type": "code",
   "execution_count": 14,
   "id": "1a1e90a3-0ffb-4bed-808e-f5c86d554dbc",
   "metadata": {},
   "outputs": [
    {
     "name": "stdout",
     "output_type": "stream",
     "text": [
      "run # 10\n",
      "run # 20\n"
     ]
    }
   ],
   "source": [
    "summary_7 = getExact(e80,e140,depth)\n",
    "date_pair = \"80_140\"\n",
    "interval1 = i80\n",
    "interval2 = i140\n",
    "year = 1979\n",
    "new_stable = runStable(runs_s,interval1[0],interval1[1],interval2[0],interval2[1],year,depth)\n",
    "df1 = getOutputsPD()\n",
    "dates = getOutputsDate()\n",
    "dates = getDates(dates,df1)\n",
    "stats = getStatsRuns(df1,dates)\n",
    "getDays(stats)\n",
    "getStatsSeasons(df1)"
   ]
  },
  {
   "cell_type": "markdown",
   "id": "c765fc42-616f-4cad-b7f6-8a07905641f0",
   "metadata": {},
   "source": [
    "### Interval 8 (110,140)"
   ]
  },
  {
   "cell_type": "code",
   "execution_count": 15,
   "id": "64a5cbcd-c64e-445e-bf9a-2daf9cb0a01b",
   "metadata": {},
   "outputs": [
    {
     "name": "stdout",
     "output_type": "stream",
     "text": [
      "run # 10\n",
      "run # 20\n"
     ]
    }
   ],
   "source": [
    "summary_8 = getExact(e110,e140,depth)\n",
    "\n",
    "date_pair = \"110_140\"\n",
    "interval1 = i110\n",
    "interval2 = i140\n",
    "year = 1979\n",
    "new_stable = runStable(runs_s,interval1[0],interval1[1],interval2[0],interval2[1],year,depth)\n",
    "\n",
    "df1 = getOutputsPD()\n",
    "dates = getOutputsDate()\n",
    "dates = getDates(dates,df1)\n",
    "stats = getStatsRuns(df1,dates)\n",
    "getDays(stats)\n",
    "getStatsSeasons(df1)\n",
    "\n",
    "mydfs = [summary_1,summary_2,summary_3,summary_4,summary_5,summary_6,summary_7,summary_8]\n",
    "names = ['summary_1','summary_2','summary_3','summary_4','summary_5','summary_6','summary_7','summary_8']\n",
    "stacked_df = pd.concat(\n",
    "  [df.assign(names = names) for df, names in zip(mydfs, names)])\n",
    "stacked_df.to_csv(F\"{datadir}/exact_{depth}.csv\")"
   ]
  },
  {
   "cell_type": "markdown",
   "id": "40cee7bf-ff54-42d5-b08c-6e4e5cb31bf5",
   "metadata": {},
   "source": [
    "### Interval 6 (114,144) AKA (04-20, 07-05)"
   ]
  },
  {
   "cell_type": "code",
   "execution_count": null,
   "id": "cfe2a960-f6b8-4bae-84c9-8d685dc7e283",
   "metadata": {},
   "outputs": [],
   "source": []
  },
  {
   "cell_type": "markdown",
   "id": "47a77653-71d9-4440-9267-9ee8d1bba861",
   "metadata": {},
   "source": [
    "### Interval 7 (114,144) AKA (04-20, 07-05)"
   ]
  },
  {
   "cell_type": "code",
   "execution_count": null,
   "id": "d3de29da-6454-4bcf-9450-4652981d6817",
   "metadata": {},
   "outputs": [],
   "source": []
  },
  {
   "cell_type": "code",
   "execution_count": null,
   "id": "5d783812-fc2f-4916-ab22-1af86157c7cf",
   "metadata": {},
   "outputs": [],
   "source": []
  },
  {
   "cell_type": "code",
   "execution_count": null,
   "id": "b6347309-640f-4c96-89bb-08464fd53100",
   "metadata": {},
   "outputs": [],
   "source": []
  }
 ],
 "metadata": {
  "kernelspec": {
   "display_name": "Python 3 (ipykernel)",
   "language": "python",
   "name": "python3"
  },
  "language_info": {
   "codemirror_mode": {
    "name": "ipython",
    "version": 3
   },
   "file_extension": ".py",
   "mimetype": "text/x-python",
   "name": "python",
   "nbconvert_exporter": "python",
   "pygments_lexer": "ipython3",
   "version": "3.10.4"
  }
 },
 "nbformat": 4,
 "nbformat_minor": 5
}
